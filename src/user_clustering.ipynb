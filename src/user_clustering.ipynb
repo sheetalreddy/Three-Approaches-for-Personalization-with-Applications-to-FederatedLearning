{
 "cells": [
  {
   "cell_type": "code",
   "execution_count": 1,
   "metadata": {
    "colab": {
     "base_uri": "https://localhost:8080/"
    },
    "id": "ZrGitA_KnRO0",
    "outputId": "3f2fcb5c-8e59-4278-f697-ef2eab2bd4f0"
   },
   "outputs": [
    {
     "name": "stdout",
     "output_type": "stream",
     "text": [
      "/usr/local/bin/python\n"
     ]
    }
   ],
   "source": [
    "#@test {\"skip\": true}\n",
    "\n",
    "!which python\n",
    "import nest_asyncio\n",
    "nest_asyncio.apply()\n",
    "\n",
    "%load_ext tensorboard\n",
    "\n",
    "from matplotlib import pyplot as plt\n",
    "import sys\n",
    "\n",
    "if not sys.warnoptions:\n",
    "    import warnings\n",
    "    warnings.simplefilter(\"ignore\")"
   ]
  },
  {
   "cell_type": "code",
   "execution_count": 2,
   "metadata": {
    "colab": {
     "base_uri": "https://localhost:8080/"
    },
    "id": "8BKyHkMxKHfV",
    "outputId": "abf2721f-e6b6-48b1-92f4-8faf313f4dda"
   },
   "outputs": [
    {
     "name": "stdout",
     "output_type": "stream",
     "text": [
      "0.18.0\n"
     ]
    }
   ],
   "source": [
    "\n",
    "import collections\n",
    "\n",
    "from IPython.display import display, HTML, IFrame\n",
    "\n",
    "import numpy as np\n",
    "import tensorflow as tf\n",
    "import tensorflow_federated as tff\n",
    "\n",
    "print(tff.__version__)\n",
    "\n",
    "tf.compat.v1.logging.set_verbosity(tf.compat.v1.logging.ERROR)\n",
    "\n",
    "np.random.seed(0)\n",
    "#def greetings():\n",
    "#  display(HTML('<b><font size=\"6\" color=\"#ff00f4\">Greetings, virtual tutorial participants!</font></b>'))\n",
    "#  return True\n",
    "#l = tff.federated_computation(greetings)()\n"
   ]
  },
  {
   "cell_type": "markdown",
   "metadata": {
    "id": "4Zv28F7QLo8O"
   },
   "source": [
    "# User clustering\n",
    "\n",
    "In the previous tutorials, we learned how to set up model and data pipelines, and use these to perform federated training using the `tff.learning` API.\n",
    "\n",
    "Of course, this is only the tip of the iceberg when it comes to FL research. In this tutorial, we are going to discuss how to implement federated learning algorithms *without* deferring to the `tff.learning` API. We aim to accomplish the following:\n",
    "\n",
    "**Goals:**\n",
    "\n",
    "\n",
    "*   Understand the general structure of federated learning algorithms.\n",
    "*   Explore the *Federated Core* of TFF.\n",
    "*   Use the Federated Core to implement Federated Averaging directly.\n",
    "\n",
    "\n"
   ]
  },
  {
   "cell_type": "markdown",
   "metadata": {
    "id": "hQ_N9XbULo8P"
   },
   "source": [
    "## Preparing the input data\n",
    "We first load and preprocess the EMNIST dataset included in TFF. We essentially use the same code as in the first tutorial."
   ]
  },
  {
   "cell_type": "code",
   "execution_count": 3,
   "metadata": {
    "id": "-WdnFluLLo8P"
   },
   "outputs": [
    {
     "name": "stdout",
     "output_type": "stream",
     "text": [
      "Downloading data from https://storage.googleapis.com/tff-datasets-public/fed_emnist_digitsonly.tar.bz2\n",
      "97402880/97398400 [==============================] - 4s 0us/step\n"
     ]
    }
   ],
   "source": [
    "emnist_train, emnist_test = tff.simulation.datasets.emnist.load_data()"
   ]
  },
  {
   "cell_type": "code",
   "execution_count": 10,
   "metadata": {
    "id": "Blrh8zJgLo8R"
   },
   "outputs": [],
   "source": [
    "NUM_CLIENTS = 20\n",
    "NUM_EPOCHS = 1\n",
    "BATCH_SIZE = 20\n",
    "SHUFFLE_BUFFER = 100\n",
    "PREFETCH_BUFFER=10\n",
    "\n",
    "def preprocess(dataset):\n",
    "\n",
    "  def batch_format_fn(element):\n",
    "    \"\"\"Flatten a batch `pixels` and return the features as an `OrderedDict`.\"\"\"\n",
    "    return collections.OrderedDict(\n",
    "        x=tf.reshape(element['pixels'], [-1, 28,28,1]),\n",
    "        y=tf.reshape(element['label'], [-1, 1]))\n",
    "\n",
    "  return dataset.repeat(NUM_EPOCHS).shuffle(SHUFFLE_BUFFER).batch(\n",
    "      BATCH_SIZE).map(batch_format_fn).prefetch(PREFETCH_BUFFER)"
   ]
  },
  {
   "cell_type": "code",
   "execution_count": 11,
   "metadata": {},
   "outputs": [],
   "source": [
    "def make_federated_data(client_data, client_ids):\n",
    "  return [\n",
    "      preprocess(client_data.create_tf_dataset_for_client(x))\n",
    "      for x in client_ids\n",
    "  ]"
   ]
  },
  {
   "cell_type": "code",
   "execution_count": 12,
   "metadata": {
    "id": "-vYM_IT7Lo8W"
   },
   "outputs": [],
   "source": [
    "#Choose 10 clients randomly\n",
    "client_ids = np.random.choice(emnist_train.client_ids, size=NUM_CLIENTS, replace=False)\n",
    "\n",
    "federated_train_data = [preprocess(emnist_train.create_tf_dataset_for_client(x))\n",
    "  for x in client_ids\n",
    "]"
   ]
  },
  {
   "cell_type": "code",
   "execution_count": 18,
   "metadata": {},
   "outputs": [
    {
     "data": {
      "text/plain": [
       "OrderedDict([('label', TensorSpec(shape=(), dtype=tf.int32, name=None)),\n",
       "             ('pixels',\n",
       "              TensorSpec(shape=(28, 28), dtype=tf.float32, name=None))])"
      ]
     },
     "execution_count": 18,
     "metadata": {},
     "output_type": "execute_result"
    }
   ],
   "source": [
    "# Let's look at the shape of our data\n",
    "example_dataset = emnist_train.create_tf_dataset_for_client(\n",
    "    emnist_train.client_ids[0])\n",
    "#example_dataset\n",
    "example_dataset.element_spec"
   ]
  },
  {
   "cell_type": "code",
   "execution_count": 19,
   "metadata": {},
   "outputs": [],
   "source": [
    "preprocessed_example_dataset = preprocess(example_dataset)\n",
    "\n",
    "sample_batch = tf.nest.map_structure(lambda x: x.numpy(),\n",
    "                                     next(iter(preprocessed_example_dataset)))"
   ]
  },
  {
   "cell_type": "markdown",
   "metadata": {
    "id": "gNO_Y9j_Lo8X"
   },
   "source": [
    "## Preparing the model"
   ]
  },
  {
   "cell_type": "markdown",
   "metadata": {
    "id": "LJ0I89ixz8yV"
   },
   "source": [
    "We use the same model as the first tutorial, which has a single hidden layer, followed by a softmax layer."
   ]
  },
  {
   "cell_type": "code",
   "execution_count": 20,
   "metadata": {
    "id": "Yfld4oFNLo8Y"
   },
   "outputs": [],
   "source": [
    "def create_keras_model():\n",
    "  data_format = 'channels_last'\n",
    "  initializer = tf.keras.initializers.RandomNormal(seed=0)\n",
    "  return tf.keras.models.Sequential([\n",
    "      tf.keras.layers.Input(shape=(28, 28,1)),\n",
    "      tf.keras.layers.Conv2D(32,(3,3), activation='relu'),\n",
    "      tf.keras.layers.Conv2D(64,(3,3), activation='relu'),\n",
    "      tf.keras.layers.MaxPool2D(pool_size=(2,2), strides=(2,2)),\n",
    "      tf.keras.layers.Dropout(rate=0.75),\n",
    "      tf.keras.layers.Flatten(),\n",
    "      tf.keras.layers.Dense(128, activation='relu', kernel_initializer=initializer),\n",
    "      tf.keras.layers.Dropout(rate=0.5, seed=1),\n",
    "      tf.keras.layers.Dense(62, kernel_initializer=initializer),\n",
    "      tf.keras.layers.Softmax()\n",
    "  ])"
   ]
  },
  {
   "cell_type": "code",
   "execution_count": 21,
   "metadata": {},
   "outputs": [],
   "source": [
    "def model_fn():\n",
    "  # We _must_ create a new model here, and _not_ capture it from an external\n",
    "  # scope. TFF will call this within different graph contexts.\n",
    "  keras_model = create_keras_model()\n",
    "  return tff.learning.from_keras_model(\n",
    "      keras_model,\n",
    "      input_spec=preprocessed_example_dataset.element_spec,\n",
    "      loss=tf.keras.losses.SparseCategoricalCrossentropy(),\n",
    "      metrics=[tf.keras.metrics.SparseCategoricalAccuracy()])"
   ]
  },
  {
   "cell_type": "markdown",
   "metadata": {
    "id": "vLln0Q8G0Bky"
   },
   "source": [
    "We wrap this Keras model as a `tff.learning.Model`."
   ]
  },
  {
   "cell_type": "code",
   "execution_count": 23,
   "metadata": {
    "id": "SPwbipTNLo8a"
   },
   "outputs": [],
   "source": [
    "def model_fn():\n",
    "  keras_model = create_keras_model()\n",
    "  return tff.learning.from_keras_model(\n",
    "      keras_model,\n",
    "      input_spec=federated_train_data[0].element_spec,\n",
    "      loss=tf.keras.losses.SparseCategoricalCrossentropy(),\n",
    "      metrics=[tf.keras.metrics.SparseCategoricalAccuracy()])"
   ]
  },
  {
   "cell_type": "code",
   "execution_count": 24,
   "metadata": {},
   "outputs": [],
   "source": [
    "@tf.function\n",
    "def client_update(model, dataset,server_weights, client_optimizer):\n",
    "  \"\"\"Performs training (using the server model weights) on the client's dataset.\"\"\"\n",
    "  # Initialize the client model with the current server weights.\n",
    "  client_weights = model.weights.trainable\n",
    "  # Assign the server weights to the client model.\n",
    "  tf.nest.map_structure(lambda x, y: x.assign(y),\n",
    "                        client_weights, server_weights)\n",
    "\n",
    "  # Use the client_optimizer to update the local model.\n",
    "  for batch in dataset:\n",
    "    with tf.GradientTape() as tape:\n",
    "      # Compute a forward pass on the batch of data\n",
    "      outputs = model.forward_pass(batch)\n",
    "\n",
    "    # Compute the corresponding gradient\n",
    "    grads = tape.gradient(outputs.loss, client_weights)\n",
    "    grads_and_vars = zip(grads, client_weights)\n",
    "\n",
    "    # Apply the gradient using a client optimizer.\n",
    "    client_optimizer.apply_gradients(grads_and_vars)\n",
    "\n",
    "  return client_weights"
   ]
  },
  {
   "cell_type": "code",
   "execution_count": 25,
   "metadata": {},
   "outputs": [],
   "source": [
    "@tf.function\n",
    "def server_update(model, mean_client_weights):\n",
    "  \"\"\"Updates the server model weights as the average of the client model weights.\"\"\"\n",
    "  model_weights = model.weights.trainable\n",
    "  # Assign the mean client weights to the server model.\n",
    "  tf.nest.map_structure(lambda x, y: x.assign(y),\n",
    "                        model_weights, mean_client_weights)\n",
    "  return model_weights"
   ]
  },
  {
   "cell_type": "code",
   "execution_count": 26,
   "metadata": {
    "id": "jJY9xUBZLo84"
   },
   "outputs": [],
   "source": [
    "@tff.tf_computation()\n",
    "def server_init():\n",
    "  model = model_fn()\n",
    "  return model.weights.trainable"
   ]
  },
  {
   "cell_type": "code",
   "execution_count": 28,
   "metadata": {},
   "outputs": [
    {
     "data": {
      "text/plain": [
       "('<x=float32[?,28,28,1],y=int32[?,1]>*',\n",
       " '<float32[3,3,1,32],float32[32],float32[3,3,32,64],float32[64],float32[9216,128],float32[128],float32[128,62],float32[62]>')"
      ]
     },
     "execution_count": 28,
     "metadata": {},
     "output_type": "execute_result"
    }
   ],
   "source": [
    "dummy_model = model_fn()\n",
    "tf_dataset_type = tff.SequenceType(dummy_model.input_spec)\n",
    "model_weights_type = server_init.type_signature.result\n",
    "str(tf_dataset_type), str(model_weights_type)"
   ]
  },
  {
   "cell_type": "code",
   "execution_count": 29,
   "metadata": {
    "id": "Q0W05pMWLo9A"
   },
   "outputs": [],
   "source": [
    "@tff.tf_computation(tf_dataset_type, model_weights_type)\n",
    "def client_update_fn(tf_dataset, server_weights):\n",
    "  model = model_fn()\n",
    "  client_optimizer = tf.keras.optimizers.SGD(learning_rate=0.01)\n",
    "  return client_update(model, tf_dataset, server_weights, client_optimizer)"
   ]
  },
  {
   "cell_type": "code",
   "execution_count": 30,
   "metadata": {
    "id": "F4WvQtVzLo9B"
   },
   "outputs": [],
   "source": [
    "@tff.tf_computation(model_weights_type)\n",
    "def server_update_fn(mean_client_weights):\n",
    "  model = model_fn()\n",
    "  return server_update(model, mean_client_weights)"
   ]
  },
  {
   "cell_type": "code",
   "execution_count": 31,
   "metadata": {},
   "outputs": [],
   "source": [
    "@tff.federated_computation\n",
    "def initialize_fn():\n",
    "   #return tff.federated_map(server_update_fn, model_weights)\n",
    "   return tff.federated_value(server_init(), tff.SERVER)"
   ]
  },
  {
   "cell_type": "code",
   "execution_count": 32,
   "metadata": {},
   "outputs": [],
   "source": [
    "\n",
    "federated_server_type = tff.FederatedType(model_weights_type, tff.SERVER)\n",
    "federated_dataset_type = tff.FederatedType(tf_dataset_type, tff.CLIENTS)"
   ]
  },
  {
   "cell_type": "markdown",
   "metadata": {
    "id": "7FXAX7vGLo9G"
   },
   "source": [
    "Remember the 4 elements of an FL algorithm?\n",
    "\n",
    "1. A server-to-client broadcast step.\n",
    "2. A local client update step.\n",
    "3. A client-to-server upload step.\n",
    "4. A server update step.\n",
    "\n",
    "Now that we've built up the above, each part can be compactly represented as a single line of TFF code. This simplicity is why we had to take extra care to specify things such as federated types!"
   ]
  },
  {
   "cell_type": "code",
   "execution_count": 33,
   "metadata": {
    "id": "Epc7MwfELo9G"
   },
   "outputs": [],
   "source": [
    "@tff.federated_computation(federated_server_type, federated_dataset_type)\n",
    "def next_fn(server_weights, federated_dataset):\n",
    "  # Broadcast the server weights to the clients.\n",
    "  server_weights_at_client = tff.federated_broadcast(server_weights)\n",
    "\n",
    "  # Each client computes their updated weights.\n",
    "  client_weights = tff.federated_map(\n",
    "      client_update_fn, (federated_dataset, server_weights_at_client))\n",
    "  \n",
    "  # The server averages these updates.\n",
    "  mean_client_weights = tff.federated_mean(client_weights)\n",
    "\n",
    "  # The server updates its model.\n",
    "  server_weights = tff.federated_map(server_update_fn, mean_client_weights)\n",
    "\n",
    "  return server_weights, client_weights"
   ]
  },
  {
   "cell_type": "code",
   "execution_count": 34,
   "metadata": {
    "id": "GxdWgEddLo9I"
   },
   "outputs": [],
   "source": [
    "federated_algorithm = tff.templates.IterativeProcess(\n",
    "    initialize_fn=initialize_fn,\n",
    "    next_fn=next_fn\n",
    ")"
   ]
  },
  {
   "cell_type": "code",
   "execution_count": 35,
   "metadata": {
    "colab": {
     "base_uri": "https://localhost:8080/",
     "height": 35
    },
    "id": "kyRLXDj-Lo9J",
    "outputId": "9eb8889c-f9c3-4af7-9f09-cd162001fcdf"
   },
   "outputs": [
    {
     "data": {
      "text/plain": [
       "('( -> <float32[3,3,1,32],float32[32],float32[3,3,32,64],float32[64],float32[9216,128],float32[128],float32[128,62],float32[62]>@SERVER)',\n",
       " '(<server_weights=<float32[3,3,1,32],float32[32],float32[3,3,32,64],float32[64],float32[9216,128],float32[128],float32[128,62],float32[62]>@SERVER,federated_dataset={<x=float32[?,28,28,1],y=int32[?,1]>*}@CLIENTS> -> <<float32[3,3,1,32],float32[32],float32[3,3,32,64],float32[64],float32[9216,128],float32[128],float32[128,62],float32[62]>@SERVER,{<float32[3,3,1,32],float32[32],float32[3,3,32,64],float32[64],float32[9216,128],float32[128],float32[128,62],float32[62]>}@CLIENTS>)')"
      ]
     },
     "execution_count": 35,
     "metadata": {},
     "output_type": "execute_result"
    }
   ],
   "source": [
    "str(federated_algorithm.initialize.type_signature),str(federated_algorithm.next.type_signature)"
   ]
  },
  {
   "cell_type": "code",
   "execution_count": 36,
   "metadata": {},
   "outputs": [],
   "source": [
    "state=federated_algorithm.initialize()"
   ]
  },
  {
   "cell_type": "code",
   "execution_count": 37,
   "metadata": {},
   "outputs": [],
   "source": [
    "fed_avg = tff.learning.build_federated_averaging_process(\n",
    "    model_fn,\n",
    "    client_optimizer_fn=lambda: tf.keras.optimizers.SGD(learning_rate=0.03),\n",
    "    server_optimizer_fn=lambda: tf.keras.optimizers.SGD(learning_rate=1.0, momentum=0.9))\n",
    "    "
   ]
  },
  {
   "cell_type": "code",
   "execution_count": 39,
   "metadata": {},
   "outputs": [],
   "source": [
    "import os\n",
    "import shutil\n",
    "\n",
    "logdir = \"/tmp/logs/scalars/training/\"\n",
    "if os.path.exists(logdir):\n",
    "  shutil.rmtree(logdir)\n",
    "\n",
    "# Your code to create a summary writer:\n",
    "summary_writer = tf.summary.create_file_writer(logdir)"
   ]
  },
  {
   "cell_type": "code",
   "execution_count": 40,
   "metadata": {},
   "outputs": [],
   "source": [
    "NUM_ROUNDS=10\n",
    "with summary_writer.as_default():\n",
    "  for round_num in range(0, NUM_ROUNDS):\n",
    "    state,client_weights = federated_algorithm.next(state, federated_train_data)"
   ]
  },
  {
   "cell_type": "code",
   "execution_count": null,
   "metadata": {},
   "outputs": [],
   "source": [
    "print(client_weights[0])\n",
    "# It is a list of 8 tensors , each tensor is a layer weight"
   ]
  },
  {
   "cell_type": "code",
   "execution_count": 42,
   "metadata": {},
   "outputs": [
    {
     "name": "stdout",
     "output_type": "stream",
     "text": [
      "['f3363_42' 'f0944_27' 'f2303_66' 'f2258_85' 'f1299_42' 'f0751_28'\n",
      " 'f1954_31' 'f3109_30' 'f1775_42' 'f3454_44' 'f0454_20' 'f3895_38'\n",
      " 'f3321_36' 'f1959_39' 'f0734_39' 'f0182_29' 'f3421_31' 'f3345_12'\n",
      " 'f4067_23' 'f3786_04']\n"
     ]
    }
   ],
   "source": [
    "NUM_OF_CLUSTERS = 4\n",
    "print(client_ids)"
   ]
  },
  {
   "cell_type": "code",
   "execution_count": 43,
   "metadata": {},
   "outputs": [
    {
     "name": "stdout",
     "output_type": "stream",
     "text": [
      "[2 3 7 4]\n",
      "['f2303_66' 'f2258_85' 'f3109_30' 'f1299_42']\n"
     ]
    }
   ],
   "source": [
    "#Randomly choose two client weights for initialization\n",
    "q = np.random.choice([i for i in range(0,8)], size=NUM_OF_CLUSTERS, replace=False)\n",
    "print(q)\n",
    "q_ids = client_ids[q]\n",
    "print(q_ids)"
   ]
  },
  {
   "cell_type": "code",
   "execution_count": 44,
   "metadata": {},
   "outputs": [],
   "source": [
    "@tf.function\n",
    "def client_forward_pass(model, dataset, cluster_weights ):\n",
    "  \"\"\"Performs training (using the server model weights) on the client's dataset.\"\"\"\n",
    "  # Initialize the client model with the current server weights.\n",
    "  client_weights = model.weights.trainable\n",
    "  # Assign the server weights to the client model.\n",
    "  tf.nest.map_structure(lambda x, y: x.assign(y),\n",
    "                        client_weights, cluster_weights)\n",
    "\n",
    "  # Use the client_optimizer to update the local model.\n",
    "  total_loss=0.0\n",
    "  for batch in dataset:\n",
    "    with tf.GradientTape() as tape:\n",
    "      # Compute a forward pass on the batch of data\n",
    "      outputs = model.forward_pass(batch)\n",
    "      total_loss=total_loss+outputs.loss\n",
    "\n",
    "  return total_loss"
   ]
  },
  {
   "cell_type": "code",
   "execution_count": null,
   "metadata": {},
   "outputs": [
    {
     "name": "stdout",
     "output_type": "stream",
     "text": [
      "Number of clients left 2500\n",
      "Number of clients left 2480\n",
      "Size of cluster f2303_66is10\n",
      "metrics=OrderedDict([('sparse_categorical_accuracy', 0.10510204), ('loss', 2.467553)])\n",
      "Size of cluster f2258_85is7\n",
      "metrics=OrderedDict([('sparse_categorical_accuracy', 0.092307694), ('loss', 2.48847)])\n",
      "Size of cluster f3109_30is6\n",
      "metrics=OrderedDict([('sparse_categorical_accuracy', 0.08186196), ('loss', 2.507385)])\n",
      "Size of cluster f1299_42is1\n",
      "metrics=OrderedDict([('sparse_categorical_accuracy', 0.17460318), ('loss', 3.1650276)])\n",
      "Number of clients left 2480\n",
      "Number of clients left 2460\n"
     ]
    }
   ],
   "source": [
    "#clustering code here\n",
    "NUM_CLIENTS =20\n",
    "model = model_fn()\n",
    "\n",
    "#select train client ids\n",
    "import random\n",
    "shuffled_ids = emnist_train.client_ids.copy()\n",
    "random.shuffle(shuffled_ids)\n",
    "clients = shuffled_ids[0:2500]\n",
    "\n",
    "#clients = emnist_train.client_ids.copy()\n",
    "\n",
    "NUM_ROUNDS_SGD = 5\n",
    "\n",
    "clusters = {client_ids[idx]: [{'weights':client_weights[idx]},client_ids[idx]] for idx in q}\n",
    "\n",
    "while len(clients)!=0:\n",
    "    \n",
    "    # Randomly pick p clients\n",
    "    print('Number of clients left '+ str(len(clients)))\n",
    "          \n",
    "    if len(clients) < NUM_CLIENTS :\n",
    "         p = np.random.choice(clients, size=len(clients), replace=False)\n",
    "    else :\n",
    "         p = np.random.choice(clients, size=NUM_CLIENTS, replace=False)\n",
    "            \n",
    "    #subtrack the selected clients from k \n",
    "    for j in p:\n",
    "        clients.remove(j)\n",
    "        \n",
    "    print('Number of clients left '+ str(len(clients)))\n",
    "    \n",
    "    #for each client in p\n",
    "    for x in p:\n",
    "        \n",
    "        # create dataset for client x\n",
    "        train_data = preprocess(emnist_train.create_tf_dataset_for_client(x))\n",
    "        \n",
    "        #Initialize loss \n",
    "        loss = []\n",
    "        \n",
    "        #looping over k clusters\n",
    "        for key in list(clusters.keys()):\n",
    "            # calculate the loss for every client in p with clusters\n",
    "            loss.append(client_forward_pass(model, train_data, clusters[key][0]['weights']))\n",
    "        \n",
    "        #assign client_id to the cluster with minimum loss\n",
    "        min_loss = min(loss)\n",
    "        min_loss_index = loss.index(min_loss)\n",
    "        l = list(clusters.keys())\n",
    "        clusters[l[min_loss_index]] = clusters[l[min_loss_index]] + [x]\n",
    "    \n",
    "    # Run SGD for few steps\n",
    "    for cluster_id in list(clusters.keys()):\n",
    "        \n",
    "        sample_clients = clusters[cluster_id][1:]\n",
    "        # Size of the cluster\n",
    "        print('Size of cluster '+str(cluster_id)+'is'+ str(len(sample_clients)))\n",
    "        \n",
    "        \n",
    "        #Prepare dataset for all clients in the cluster\n",
    "        train_data = make_federated_data(emnist_train, sample_clients)\n",
    "        # Use all the clients in the cluster and initialize with the cluster model\n",
    "\n",
    "        weights = clusters[cluster_id][0]['weights']\n",
    "        state = fed_avg.initialize()\n",
    "        model = model_fn()\n",
    "        model_weights = model.weights.trainable\n",
    "  \n",
    "        tf.nest.map_structure(lambda x, y: x.assign(y),\n",
    "                        model_weights, weights)\n",
    "        \n",
    "        state = tff.learning.state_with_new_model_weights(state,\n",
    "                    trainable_weights=[v.numpy() for v in model.weights.trainable],\n",
    "                    non_trainable_weights=[v.numpy() for v in model.weights.non_trainable] )\n",
    "\n",
    "\n",
    "        # Use local datasets of the clients and run few steps of SGD\n",
    "        for round_num in range(0,NUM_ROUNDS_SGD):\n",
    "            state, metrics = fed_avg.next(state, train_data)\n",
    "        print('metrics={}'.format(metrics['train']))\n",
    "        # Perform Fedavg using models from all the clients with mk (number of samples with each client)\n",
    "        # Clients send mk*hk(local weights of the clients)\n",
    "        # Global_cluster_model = Fedavg(m1h1,m2h2...mkhk)\n",
    "        clusters[cluster_id][0]['weights'] = state.model.trainable\n",
    "    \n",
    "    \n",
    "    \n",
    "    # Get the weights"
   ]
  },
  {
   "cell_type": "markdown",
   "metadata": {
    "id": "4UYZ3qeMLo9N"
   },
   "source": [
    "## Evaluating the algorithm"
   ]
  },
  {
   "cell_type": "code",
   "execution_count": null,
   "metadata": {},
   "outputs": [],
   "source": [
    "clusters"
   ]
  },
  {
   "cell_type": "code",
   "execution_count": 270,
   "metadata": {},
   "outputs": [],
   "source": [
    "# Construct federated evaluation computation here:\n",
    "evaluation = tff.learning.build_federated_evaluation(model_fn)"
   ]
  },
  {
   "cell_type": "code",
   "execution_count": 276,
   "metadata": {},
   "outputs": [
    {
     "name": "stdout",
     "output_type": "stream",
     "text": [
      "Iam here\n",
      "OrderedDict([('sparse_categorical_accuracy', 0.9539049), ('loss', 0.16496158)])\n",
      "Iam here\n",
      "OrderedDict([('sparse_categorical_accuracy', 0.9421285), ('loss', 0.20896013)])\n",
      "Iam here\n",
      "OrderedDict([('sparse_categorical_accuracy', 0.925776), ('loss', 0.21819805)])\n",
      "Iam here\n",
      "OrderedDict([('sparse_categorical_accuracy', 0.94848484), ('loss', 0.17035863)])\n"
     ]
    }
   ],
   "source": [
    "for cluster_id in list(clusters.keys()):\n",
    "    sample_clients = clusters[cluster_id][1:]\n",
    "    federated_test_data = make_federated_data(emnist_test, sample_clients)\n",
    "    state = fed_avg.initialize()\n",
    "    weights = clusters[cluster_id][0]['weights']\n",
    "    model = model_fn()\n",
    "    model_weights = model.weights.trainable\n",
    "  \n",
    "    tf.nest.map_structure(lambda x, y: x.assign(y),\n",
    "                        model_weights, weights)\n",
    "        \n",
    "    state = tff.learning.state_with_new_model_weights(state,\n",
    "                    trainable_weights=[v.numpy() for v in model.weights.trainable],\n",
    "                    non_trainable_weights=[v.numpy() for v in model.weights.non_trainable] )\n",
    "    print('Iam here')\n",
    "    test_metrics = evaluation(state.model, federated_test_data)\n",
    "    print(test_metrics)"
   ]
  },
  {
   "cell_type": "code",
   "execution_count": null,
   "metadata": {},
   "outputs": [],
   "source": [
    "# Run evaluation on the test data here, using the federated model produced from \n",
    "# training:\n"
   ]
  }
 ],
 "metadata": {
  "colab": {
   "collapsed_sections": [],
   "name": "user_clustering.ipynb",
   "provenance": []
  },
  "kernelspec": {
   "display_name": "Python 3",
   "language": "python",
   "name": "python3"
  },
  "language_info": {
   "codemirror_mode": {
    "name": "ipython",
    "version": 3
   },
   "file_extension": ".py",
   "mimetype": "text/x-python",
   "name": "python",
   "nbconvert_exporter": "python",
   "pygments_lexer": "ipython3",
   "version": "3.8.9"
  }
 },
 "nbformat": 4,
 "nbformat_minor": 4
}
